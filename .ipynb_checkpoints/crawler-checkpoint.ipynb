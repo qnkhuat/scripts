{
 "cells": [
  {
   "cell_type": "code",
   "execution_count": 1,
   "metadata": {
    "ExecuteTime": {
     "end_time": "2019-02-14T02:14:48.094814Z",
     "start_time": "2019-02-14T02:14:47.653834Z"
    }
   },
   "outputs": [],
   "source": [
    "import requests\n",
    "import os,json\n",
    "import praw\n",
    "\n"
   ]
  },
  {
   "cell_type": "code",
   "execution_count": 33,
   "metadata": {
    "ExecuteTime": {
     "end_time": "2019-02-14T02:26:41.020823Z",
     "start_time": "2019-02-14T02:26:41.009454Z"
    }
   },
   "outputs": [],
   "source": [
    "\n",
    "class Subreddit(object):\n",
    "    def __init__(self,url):\n",
    "        self.url = url\n",
    "        self.thread,self.comments = self.get_meta_data()\n",
    "        self.score = self.thread['score']\n",
    "        self.title = self.thread['title']\n",
    "        self.selftext = self.thread['selftext']\n",
    "        self.fulltext = [self.title,self.selftext]\n",
    "\n",
    "    def get_comments(self,comments):\n",
    "        all_comments = []\n",
    "        for comment in comments:\n",
    "            try :\n",
    "                all_comments.append({\n",
    "                    'comment':comment['data']['body'],\n",
    "                    'score':comment['data']['score']\n",
    "                })\n",
    "            except: pass\n",
    "        return all_comments\n",
    "        \n",
    "    \n",
    "    def to_dict(self):\n",
    "        return {\n",
    "            'comments':self.comments,\n",
    "            'score':self.score,\n",
    "            'title':self.title,\n",
    "            'selftext':self.selftext,\n",
    "            'fulltext':self.fulltext,\n",
    "            'url':self.url\n",
    "        }\n",
    "\n",
    "    def get_meta_data(self):\n",
    "        \"\"\" Get the url and + .json to the end \"\"\"\n",
    "        url = self.url+'/.json'\n",
    "        data = json.loads(requests.get(url,headers = {'User-agent': 'your bot 0.1'}).content)\n",
    "        thread = data[0]['data']['children'][0]['data']\n",
    "        comments_obj = data[1]['data']['children']\n",
    "        comments = self.get_comments(comments_obj)\n",
    "        return thread,comments\n",
    "        "
   ]
  },
  {
   "cell_type": "code",
   "execution_count": 34,
   "metadata": {
    "ExecuteTime": {
     "end_time": "2019-02-14T02:26:41.389354Z",
     "start_time": "2019-02-14T02:26:41.385690Z"
    }
   },
   "outputs": [],
   "source": [
    "url = 'https://www.reddit.com/r/Jokes/comments/69s9xo/a_blonde_woman_asks_for_a_5000_loan/'"
   ]
  },
  {
   "cell_type": "code",
   "execution_count": 35,
   "metadata": {
    "ExecuteTime": {
     "end_time": "2019-02-14T02:26:43.316657Z",
     "start_time": "2019-02-14T02:26:41.608942Z"
    }
   },
   "outputs": [],
   "source": [
    "sub = Subreddit(url)"
   ]
  },
  {
   "cell_type": "code",
   "execution_count": 36,
   "metadata": {
    "ExecuteTime": {
     "end_time": "2019-02-14T02:26:43.326017Z",
     "start_time": "2019-02-14T02:26:43.319552Z"
    }
   },
   "outputs": [
    {
     "data": {
      "text/plain": [
       "{'comments': [{'comment': \"This isn't a joke. I know a guy who did this. He put his $60,000 boat up for sale on consignment every time he went away for a few months for work, but set the minimum price at ~$180,000. It worked great the first 3 times, and even better the fourth when someone actually bought it\",\n",
       "   'score': 10783},\n",
       "  {'comment': 'Uhhhh, this is definitely something for [LifeProTips](https://reddit.com//r/LifeProTips )',\n",
       "   'score': 3908},\n",
       "  {'comment': \"When I went to Manhattan for 4 days, I didn't feel like paying $200+ for parking.\\n\\nMy car needed an oil change, so I paid $80  for my oil change, and kept the car in the dealer's secure parking for 4 days. They got my business (since I normally would not service my car while I'm on vacation), I got free parking. Win win.\",\n",
       "   'score': 278},\n",
       "  {'comment': \"That's not how collateral work. The bank would register the car as collateral and she would still be owner and responsible for it.\\nOnly if she's defaults and stops paying back the loan, would bank consider getting possession of the car.\",\n",
       "   'score': 1272},\n",
       "  {'comment': \"She's a multimillionaire and doesn't have a garage ? Where does she park it at night ?\\n\\nAnd also she should have more than one car. \",\n",
       "   'score': 509},\n",
       "  {'comment': \"Isn't the point of blond jokes that they're stupid? Because if that actually would work, that's pretty clever.\",\n",
       "   'score': 1277},\n",
       "  {'comment': \"I'm pretty sure I first read this joke in cuneiform. \",\n",
       "   'score': 112},\n",
       "  {'comment': 'Something tells me realistically this would not actually be a smart move. Educate please',\n",
       "   'score': 18},\n",
       "  {'comment': ' \"Where else in New York City can I park my car for two weeks for only $15.41 and expect it to be there when I return?\"\\n\\n\\nIn your own garage? Lol blondes amirite?',\n",
       "   'score': 163},\n",
       "  {'comment': 'Not your typical blonde joke, I like it.', 'score': 12},\n",
       "  {'comment': 'booyahh', 'score': 52},\n",
       "  {'comment': \"Haven't heard this since 7-8 years ago.\", 'score': 28},\n",
       "  {'comment': \"That's actually pretty damn smart. That is, if you have a ton of money\",\n",
       "   'score': 5},\n",
       "  {'comment': \"So much for blonde, this one's actually pretty smart.\",\n",
       "   'score': 6},\n",
       "  {'comment': 'Nice to see that they are making blonds smarter in jokes now. ',\n",
       "   'score': 5},\n",
       "  {'comment': 'I was paying $100 a month to store my boat at a marina, on a trailer. Spike to the service manager about the work it needed. Nothing major in the scheme of things. So he said- you are waiting for us to work on it, not storing t here.  And he stretched the repairs out over three years, saving me over twice the cost of the work.',\n",
       "   'score': 4},\n",
       "  {'comment': 'A joke that subverts the blonde = dumb stereotype? Yeah, OK, take the upvote!',\n",
       "   'score': 20},\n",
       "  {'comment': 'My brother is a software engineering consultant.  He was on a multi-year contract in the Midwest.  He prefered paper manuals/books and would haul them to his hotel where he would stay for a few weeks and then go home every few weekends.  Well, he figured out that rather than hauling the books home, he could leave the books in his room where they would be collected and put into lost and found. When he returned he would recover them.  They learned his routine so they started delivering the books to his room before he returned.  He did his part, he started leaving tips on the books when he left.\\n\\nedit: iPhones are horrible tools for posting.  Fixed all kinds of shit.',\n",
       "   'score': 5}],\n",
       " 'score': 26652,\n",
       " 'title': 'A Blonde Woman Asks for a $5000 Loan',\n",
       " 'selftext': '[removed]',\n",
       " 'fulltext': ['A Blonde Woman Asks for a $5000 Loan', '[removed]'],\n",
       " 'url': 'https://www.reddit.com/r/Jokes/comments/69s9xo/a_blonde_woman_asks_for_a_5000_loan/'}"
      ]
     },
     "execution_count": 36,
     "metadata": {},
     "output_type": "execute_result"
    }
   ],
   "source": [
    "sub.to_json()"
   ]
  },
  {
   "cell_type": "code",
   "execution_count": 151,
   "metadata": {
    "ExecuteTime": {
     "end_time": "2019-02-13T12:51:28.174164Z",
     "start_time": "2019-02-13T12:51:28.169177Z"
    }
   },
   "outputs": [
    {
     "data": {
      "text/plain": [
       "dict_keys(['subreddit_id', 'approved_at_utc', 'mod_reason_by', 'banned_by', 'author_flair_type', 'removal_reason', 'link_id', 'author_flair_template_id', 'likes', 'no_follow', 'replies', 'user_reports', 'saved', 'id', 'banned_at_utc', 'mod_reason_title', 'gilded', 'archived', 'report_reasons', 'author', 'can_mod_post', 'created_utc', 'send_replies', 'parent_id', 'score', 'author_fullname', 'approved_by', 'controversiality', 'body', 'edited', 'author_flair_css_class', 'is_submitter', 'downs', 'author_flair_richtext', 'author_patreon_flair', 'collapsed_reason', 'body_html', 'stickied', 'subreddit_type', 'can_gild', 'gildings', 'author_flair_text_color', 'score_hidden', 'permalink', 'num_reports', 'name', 'created', 'subreddit', 'author_flair_text', 'collapsed', 'subreddit_name_prefixed', 'ups', 'depth', 'author_flair_background_color', 'mod_reports', 'mod_note', 'distinguished'])"
      ]
     },
     "execution_count": 151,
     "metadata": {},
     "output_type": "execute_result"
    }
   ],
   "source": [
    "sub.comments[0]['data'].keys()"
   ]
  },
  {
   "cell_type": "code",
   "execution_count": 152,
   "metadata": {
    "ExecuteTime": {
     "end_time": "2019-02-13T12:51:37.402960Z",
     "start_time": "2019-02-13T12:51:37.396162Z"
    }
   },
   "outputs": [
    {
     "data": {
      "text/plain": [
       "10774"
      ]
     },
     "execution_count": 152,
     "metadata": {},
     "output_type": "execute_result"
    }
   ],
   "source": [
    "sub.comments[0]['data']['score']"
   ]
  },
  {
   "cell_type": "code",
   "execution_count": null,
   "metadata": {
    "ExecuteTime": {
     "end_time": "2019-02-13T12:45:58.841796Z",
     "start_time": "2019-02-13T12:45:58.454Z"
    },
    "scrolled": false
   },
   "outputs": [],
   "source": [
    "thread = sub.data[0]['data']['children'][0]['data']['score']"
   ]
  },
  {
   "cell_type": "code",
   "execution_count": 100,
   "metadata": {
    "ExecuteTime": {
     "end_time": "2019-02-13T12:43:50.503840Z",
     "start_time": "2019-02-13T12:43:50.500789Z"
    },
    "scrolled": false
   },
   "outputs": [],
   "source": [
    "# sub.data[1] is all the comments\n",
    "comments = sub.data[1]['data']['children']\n",
    "# as the depth go on, it is the replies of the coment"
   ]
  },
  {
   "cell_type": "code",
   "execution_count": 106,
   "metadata": {
    "ExecuteTime": {
     "end_time": "2019-02-13T12:44:50.362619Z",
     "start_time": "2019-02-13T12:44:50.358159Z"
    },
    "scrolled": false
   },
   "outputs": [
    {
     "data": {
      "text/plain": [
       "\"This isn't a joke. I know a guy who did this. He put his $60,000 boat up for sale on consignment every time he went away for a few months for work, but set the minimum price at ~$180,000. It worked great the first 3 times, and even better the fourth when someone actually bought it\""
      ]
     },
     "execution_count": 106,
     "metadata": {},
     "output_type": "execute_result"
    }
   ],
   "source": [
    "comments[0]['data']['body']"
   ]
  },
  {
   "cell_type": "code",
   "execution_count": null,
   "metadata": {},
   "outputs": [],
   "source": []
  }
 ],
 "metadata": {
  "kernelspec": {
   "display_name": "Python 3",
   "language": "python",
   "name": "python3"
  },
  "language_info": {
   "codemirror_mode": {
    "name": "ipython",
    "version": 3
   },
   "file_extension": ".py",
   "mimetype": "text/x-python",
   "name": "python",
   "nbconvert_exporter": "python",
   "pygments_lexer": "ipython3",
   "version": "3.6.7"
  },
  "toc": {
   "base_numbering": 1,
   "nav_menu": {},
   "number_sections": true,
   "sideBar": true,
   "skip_h1_title": false,
   "title_cell": "Table of Contents",
   "title_sidebar": "Contents",
   "toc_cell": false,
   "toc_position": {},
   "toc_section_display": true,
   "toc_window_display": false
  }
 },
 "nbformat": 4,
 "nbformat_minor": 2
}
